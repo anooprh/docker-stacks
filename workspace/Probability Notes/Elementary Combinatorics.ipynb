{
 "cells": [
  {
   "cell_type": "markdown",
   "metadata": {
    "cell_style": "center"
   },
   "source": [
    "## The basic principle of counting\n",
    "\n",
    "Suppose that two experiments are to be performed. Then if experiment `1` can resultin any one of `m` possible outcomes and if, for each outcome of experiment `1`, there are `n` possible outcomes of experiment `2`, then together there are `mn` possible outcomes."
   ]
  },
  {
   "cell_type": "markdown",
   "metadata": {
    "collapsed": true
   },
   "source": [
    "\n",
    "## The generalized basic principle of counting\n",
    "\n",
    "If `r` experiments that are to be performed are such that the first one may result in any of `n1` possible outcomes; and if, for each of these `n1` possible outcomes, there are `n2` possible outcomes of the second experiment; and if, for each of the possible outcomes of the first two experiments, there are `n3` possible outcomes of the third experiment; and if...,then there is a total of `n1·n2 ···nr` possible outcomes of the `r` experiments."
   ]
  },
  {
   "cell_type": "markdown",
   "metadata": {},
   "source": [
    "## Permutation\n",
    "\n",
    "A permutation relates to the act of arranging all the members of a set into some sequence or order, or if the set is already ordered, rearranging (reordering) its elements.\n",
    "\n",
    "```\n",
    "Example: You want to visit the homes of three friends Alex (\"a\"), Betty (\"b\") and Chandra (\"c\"), but haven't decided in what order. What choices do you have?\n",
    "\n",
    "Answer: {a,b,c} {a,c,b} {b,a,c} {b,c,a} {c,a,b} {c,b,a} \n",
    "\n",
    "If the order does not matter, it is a Combination\n",
    "```"
   ]
  },
  {
   "cell_type": "markdown",
   "metadata": {},
   "source": [
    "## Combination\n",
    "\n",
    "A combination is a way of selecting items from a collection, such that (unlike permutations) the order of selection does not matter.\n",
    "\n",
    "Note that collection is a generalized set. \n",
    "\n",
    "```\n",
    "Example: You are making a sandwich. How many different combinations of 2 ingredients can you make with cheese, mayo and ham?\n",
    "\n",
    "Answer: {cheese, mayo}, {cheese, ham} or {mayo, ham}\n",
    "\n",
    "When the order does matter, such as a secret code, it is a Permutation\n",
    "```"
   ]
  },
  {
   "cell_type": "code",
   "execution_count": null,
   "metadata": {},
   "outputs": [],
   "source": []
  }
 ],
 "metadata": {
  "kernelspec": {
   "display_name": "Python 3",
   "language": "python",
   "name": "python3"
  },
  "language_info": {
   "codemirror_mode": {
    "name": "ipython",
    "version": 3
   },
   "file_extension": ".py",
   "mimetype": "text/x-python",
   "name": "python",
   "nbconvert_exporter": "python",
   "pygments_lexer": "ipython3",
   "version": "3.6.1"
  },
  "latex_envs": {
   "LaTeX_envs_menu_present": true,
   "autocomplete": true,
   "bibliofile": "biblio.bib",
   "cite_by": "apalike",
   "current_citInitial": 1,
   "eqLabelWithNumbers": true,
   "eqNumInitial": 1,
   "hotkeys": {
    "equation": "Ctrl-E",
    "itemize": "Ctrl-I"
   },
   "labels_anchors": false,
   "latex_user_defs": false,
   "report_style_numbering": false,
   "user_envs_cfg": false
  },
  "toc": {
   "colors": {
    "hover_highlight": "#DAA520",
    "navigate_num": "#000000",
    "navigate_text": "#333333",
    "running_highlight": "#FF0000",
    "selected_highlight": "#FFD700",
    "sidebar_border": "#EEEEEE",
    "wrapper_background": "#FFFFFF"
   },
   "moveMenuLeft": true,
   "nav_menu": {
    "height": "30px",
    "width": "252px"
   },
   "navigate_menu": true,
   "number_sections": true,
   "sideBar": true,
   "threshold": 4,
   "toc_cell": false,
   "toc_section_display": "block",
   "toc_window_display": true,
   "widenNotebook": false
  },
  "varInspector": {
   "cols": {
    "lenName": 16,
    "lenType": 16,
    "lenVar": 40
   },
   "kernels_config": {
    "python": {
     "delete_cmd_postfix": "",
     "delete_cmd_prefix": "del ",
     "library": "var_list.py",
     "varRefreshCmd": "print(var_dic_list())"
    },
    "r": {
     "delete_cmd_postfix": ") ",
     "delete_cmd_prefix": "rm(",
     "library": "var_list.r",
     "varRefreshCmd": "cat(var_dic_list()) "
    }
   },
   "types_to_exclude": [
    "module",
    "function",
    "builtin_function_or_method",
    "instance",
    "_Feature"
   ],
   "window_display": false
  }
 },
 "nbformat": 4,
 "nbformat_minor": 2
}
