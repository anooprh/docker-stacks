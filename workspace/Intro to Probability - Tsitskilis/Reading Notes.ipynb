{
 "cells": [
  {
   "cell_type": "markdown",
   "metadata": {
    "run_control": {
     "marked": false
    }
   },
   "source": [
    "Our main objective in this book is to develop the art of describing uncertainty in terms of probabilistic models, as well as the skill of probabilistic reasoning."
   ]
  },
  {
   "cell_type": "markdown",
   "metadata": {
    "run_control": {
     "marked": false
    }
   },
   "source": [
    "# Sample Space and Probability"
   ]
  },
  {
   "cell_type": "markdown",
   "metadata": {
    "run_control": {
     "marked": false
    }
   },
   "source": [
    "The subject of this chapter, is to describe the generic structure of probabilistic models, and their basic properties. The models we consider assign probabilities to collections (sets) of possible outcomes. For this reason, we must begin with a short review of set theory."
   ]
  },
  {
   "cell_type": "markdown",
   "metadata": {
    "run_control": {
     "marked": false
    }
   },
   "source": [
    "## Sets"
   ]
  },
  {
   "cell_type": "markdown",
   "metadata": {
    "run_control": {
     "marked": false
    }
   },
   "source": [
    "A set is a collection of objects, which are the elements of the set. \n",
    "\n",
    "If *S* is a set and *x* is an element of *S*,we write $ x \\in S$. If *x* is not an element of *S*, we write $x \\notin S $. A set can have no elements, in which case it is called the **empty set** / **null set**, denoted by $\\emptyset$."
   ]
  },
  {
   "cell_type": "markdown",
   "metadata": {
    "run_control": {
     "marked": false
    }
   },
   "source": [
    "##### Finite Set\n",
    "All the elements of the set can be enumerated, In other words, the elements can be enumerated in a list as in { x<sub>1</sub>, x<sub>2</sub>, x<sub>3</sub> ... x<sub>n</sub> }\n",
    "\n",
    "For example, the set of possible outcomes of a die roll is { 1, 2, 3, 4, 5, 6 }, and the set of possible outcomes of a coin toss is { H,T }, where H stands for \"heads\" and T stands for \"tails\"."
   ]
  },
  {
   "cell_type": "markdown",
   "metadata": {
    "run_control": {
     "marked": false
    }
   },
   "source": [
    "##### Infinte Set \n",
    "\n",
    "If S contains infinitely many elements x<sub>1</sub>, x<sub>2</sub>, x<sub>3</sub>, . . . which can be enumerated in a list (so that there are as many elements as there are positive integers) we write S = {x<sub>1</sub>, x<sub>2</sub>, x<sub>3</sub> ...}, and we say that S is **countably infinite**\n",
    "\n",
    "For example, the set of even integers can be written as { 0, 2, −2, 4, −4, . . . }, and is countably infinite.\n",
    "\n",
    "Alternatively, we can consider the set of all *x* that have a certain property *P*, and denote it by { *x* | *x* satisfies *P* }. (The symbol | is to be read as \"such that\"). For example the set of even integers can be written as { k | k/2 is integer}. Similarly, the set of all scalars x in the interval [0, 1] can be written as { x | 0 $\\leq$ x $\\leq$ 1}. \n",
    "\n",
    "If the elements of the set cannot be written down in a list, such a set is said to be **uncountable**."
   ]
  },
  {
   "cell_type": "markdown",
   "metadata": {
    "run_control": {
     "marked": false
    }
   },
   "source": [
    "##### Subset\n",
    "\n",
    "If every element of a set *S* is also an element of a set *T*, we say that *S* is a subset of *T*, and we write *S* $\\subseteq$ *T* or *T* $\\supseteq$ *S*."
   ]
  },
  {
   "cell_type": "markdown",
   "metadata": {
    "run_control": {
     "marked": false
    }
   },
   "source": [
    "##### Set Equality\n",
    "\n",
    "If *S* $\\subseteq$ *T* and *T* $\\subseteq$ *S*,the two sets are equal, and we write *S* = *T*."
   ]
  },
  {
   "cell_type": "markdown",
   "metadata": {
    "run_control": {
     "marked": false
    }
   },
   "source": [
    "##### Universal Set $\\Omega$\n",
    "\n",
    "It is also expedient to introduce a universal set, denoted by $\\Omega$, which contains all objects that could conceivably be of interest in a particular context. Having specified the context in terms of a universal set $\\Omega$, we only consider sets *S* that are subsets of $\\Omega$."
   ]
  },
  {
   "cell_type": "markdown",
   "metadata": {
    "run_control": {
     "marked": false
    }
   },
   "source": [
    "##### Set Operations\n",
    "\n",
    "The **complement** of a set *S*, with respect to the universe $\\Omega$, is the set { *x* $\\in$ $\\Omega$ | *x* $\\notin$ *S*} of all elements of $\\Omega$ that do not belong to *S*, and is denoted by *S<sup>c</sup>*.\n",
    "\n",
    "\n",
    "The union of two sets *S* and *T* is the set of all elements that belong to *S* or *T* (or both), and is denoted by *S* $\\cup$ *T* . The intersection of two sets *S* and *T* is the set of all elements that belong to both *S* and *T*, and is denoted by *S* $\\cap$ *T*. \n",
    "\n",
    "Thus, *S* $\\cup$ *T* = { *x* | *x* $\\in$ *S* or *x* $\\in$ *T* }, *S* $\\cap$ *T* = { *x* | *x* $\\in$ *S* and *x* $\\in$ *T* }."
   ]
  },
  {
   "cell_type": "markdown",
   "metadata": {
    "run_control": {
     "marked": false
    }
   },
   "source": [
    "##### Disjoint Sets and Partitions\n",
    "\n",
    "Two sets are said to be **disjoint** if their intersection is empty. More generally, several sets are said to be disjoint if no two of them have a common element.\n",
    "\n",
    "A collection of sets is said to be a **partition** of a set *S* if the sets in the collection are disjoint and their union is *S*."
   ]
  },
  {
   "cell_type": "markdown",
   "metadata": {},
   "source": [
    "##### Algebra of Sets\n",
    "\n",
    "*S* $\\cup$ *T* = *T* $\\cup$ *S*\n",
    "\n",
    "*S* $\\cup$ ( *T* $\\cup$ *U* ) = ( *S* $\\cup$ *T* ) $\\cup$ *U*\n",
    "\n",
    "*S* $\\cap$ ( *T* $\\cup$ *U* ) = ( *S* $\\cap$ *T* ) $\\cup$ ( *S* $\\cap$ *U* )\n",
    "\n",
    "*S* $\\cup$ ( *T* $\\cap$ *U* ) = ( *S* $\\cup$ *T* ) $\\cap$ ( *S* $\\cup$ *U* )\n",
    "\n",
    "( *S* <sup>c</sup> ) <sup>c</sup> = *S* \n",
    "\n",
    "*S* $\\cap$ *S*<sup>c</sup> = $\\emptyset$ \n",
    "\n",
    "*S* $\\cup$ $\\Omega$ = $\\Omega$\n",
    "\n",
    "*S* $\\cap$ $\\Omega$ = *S*\n",
    "\n",
    "##### de Morgan's Laws\n",
    "\n",
    "$\\bigg(\\bigcup_\\limits{n} S_n\\bigg)^c = \\bigcap_\\limits{n}S_n^c$  &nbsp;&nbsp;&nbsp;&nbsp;&nbsp;&nbsp;&nbsp;&nbsp;&nbsp;&nbsp; **OR** &nbsp;&nbsp;&nbsp;&nbsp;&nbsp;&nbsp;&nbsp;&nbsp;&nbsp;&nbsp;       $( A \\cup B )^c = A^c \\cap B^c$\n",
    "\n",
    "$\\bigg(\\bigcap_\\limits{n} S_n\\bigg)^c = \\bigcup_\\limits{n}S_n^c$  &nbsp;&nbsp;&nbsp;&nbsp;&nbsp;&nbsp;&nbsp;&nbsp;&nbsp;&nbsp; **OR** &nbsp;&nbsp;&nbsp;&nbsp;&nbsp;&nbsp;&nbsp;&nbsp;&nbsp;&nbsp;       $( A \\cap B )^c = A^c \\cup B^c$"
   ]
  },
  {
   "cell_type": "code",
   "execution_count": null,
   "metadata": {
    "collapsed": true
   },
   "outputs": [],
   "source": []
  }
 ],
 "metadata": {
  "kernelspec": {
   "display_name": "Python 3",
   "language": "python",
   "name": "python3"
  },
  "language_info": {
   "codemirror_mode": {
    "name": "ipython",
    "version": 3
   },
   "file_extension": ".py",
   "mimetype": "text/x-python",
   "name": "python",
   "nbconvert_exporter": "python",
   "pygments_lexer": "ipython3",
   "version": "3.6.1"
  },
  "latex_envs": {
   "LaTeX_envs_menu_present": true,
   "autocomplete": true,
   "bibliofile": "biblio.bib",
   "cite_by": "apalike",
   "current_citInitial": 1,
   "eqLabelWithNumbers": true,
   "eqNumInitial": 1,
   "hotkeys": {
    "equation": "Ctrl-E",
    "itemize": "Ctrl-I"
   },
   "labels_anchors": false,
   "latex_user_defs": false,
   "report_style_numbering": false,
   "user_envs_cfg": false
  },
  "toc": {
   "colors": {
    "hover_highlight": "#DAA520",
    "navigate_num": "#000000",
    "navigate_text": "#333333",
    "running_highlight": "#FF0000",
    "selected_highlight": "#FFD700",
    "sidebar_border": "#EEEEEE",
    "wrapper_background": "#FFFFFF"
   },
   "moveMenuLeft": true,
   "nav_menu": {
    "height": "48px",
    "width": "252px"
   },
   "navigate_menu": true,
   "number_sections": true,
   "sideBar": true,
   "threshold": 4,
   "toc_cell": false,
   "toc_section_display": "block",
   "toc_window_display": true,
   "widenNotebook": false
  },
  "varInspector": {
   "cols": {
    "lenName": 16,
    "lenType": 16,
    "lenVar": 40
   },
   "kernels_config": {
    "python": {
     "delete_cmd_postfix": "",
     "delete_cmd_prefix": "del ",
     "library": "var_list.py",
     "varRefreshCmd": "print(var_dic_list())"
    },
    "r": {
     "delete_cmd_postfix": ") ",
     "delete_cmd_prefix": "rm(",
     "library": "var_list.r",
     "varRefreshCmd": "cat(var_dic_list()) "
    }
   },
   "types_to_exclude": [
    "module",
    "function",
    "builtin_function_or_method",
    "instance",
    "_Feature"
   ],
   "window_display": false
  }
 },
 "nbformat": 4,
 "nbformat_minor": 2
}
