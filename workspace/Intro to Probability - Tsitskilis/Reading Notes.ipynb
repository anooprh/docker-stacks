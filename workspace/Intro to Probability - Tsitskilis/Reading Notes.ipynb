{
 "cells": [
  {
   "cell_type": "markdown",
   "metadata": {
    "run_control": {
     "marked": false
    }
   },
   "source": [
    "Our main objective in this book is to develop the art of describing uncertainty in terms of probabilistic models, as well as the skill of probabilistic reasoning."
   ]
  },
  {
   "cell_type": "markdown",
   "metadata": {
    "run_control": {
     "marked": false
    }
   },
   "source": [
    "# Sample Space and Probability"
   ]
  },
  {
   "cell_type": "markdown",
   "metadata": {
    "run_control": {
     "marked": false
    }
   },
   "source": [
    "The subject of this chapter, is to describe the generic structure of probabilistic models, and their basic properties. The models we consider assign probabilities to collections (sets) of possible outcomes. For this reason, we must begin with a short review of set theory."
   ]
  },
  {
   "cell_type": "markdown",
   "metadata": {
    "run_control": {
     "marked": false
    }
   },
   "source": [
    "A set is a collection of objects, which are the elements of the set. \n",
    "\n",
    "If *S* is a set and *x* is an element of *S*,we write $ x \\in S$. If *x* is not an element of *S*, we write $x \\notin S $. A set can have no elements, in which case it is called the **empty set** / **null set**, denoted by $\\emptyset$."
   ]
  },
  {
   "cell_type": "markdown",
   "metadata": {
    "run_control": {
     "marked": false
    }
   },
   "source": [
    "## Sets"
   ]
  },
  {
   "cell_type": "markdown",
   "metadata": {
    "run_control": {
     "marked": false
    }
   },
   "source": [
    "### Finite Set\n",
    "All the elements of the set can be enumerated, In other words, the elements can be enumerated in a list as in { x<sub>1</sub>, x<sub>2</sub>, x<sub>3</sub> ... x<sub>n</sub> }\n",
    "\n",
    "For example, the set of possible outcomes of a die roll is { 1, 2, 3, 4, 5, 6 }, and the set of possible outcomes of a coin toss is { H,T }, where H stands for \"heads\" and T stands for \"tails\"."
   ]
  },
  {
   "cell_type": "markdown",
   "metadata": {
    "run_control": {
     "marked": false
    }
   },
   "source": [
    "### Infinte Set \n",
    "\n",
    "If S contains infinitely many elements x<sub>1</sub>, x<sub>2</sub>, x<sub>3</sub>, . . . which can be enumerated in a list (so that there are as many elements as there are positive integers) we write S = {x<sub>1</sub>, x<sub>2</sub>, x<sub>3</sub> ...}, and we say that S is **countably infinite**\n",
    "\n",
    "For example, the set of even integers can be written as { 0, 2, −2, 4, −4, . . . }, and is countably infinite.\n",
    "\n",
    "Alternatively, we can consider the set of all *x* that have a certain property *P*, and denote it by { *x* | *x* satisfies *P* }. (The symbol | is to be read as \"such that\"). For example the set of even integers can be written as { k | k/2 is integer}. Similarly, the set of all scalars x in the interval [0, 1] can be written as { x | 0 $\\leq$ x $\\leq$ 1}. \n",
    "\n",
    "If the elements of the set cannot be written down in a list, such a set is said to be **uncountable**."
   ]
  },
  {
   "cell_type": "markdown",
   "metadata": {
    "run_control": {
     "marked": false
    }
   },
   "source": [
    "### Subset\n",
    "\n",
    "If every element of a set *S* is also an element of a set *T*, we say that *S* is a subset of *T*, and we write *S* $\\subseteq$ *T* or *T* $\\supseteq$ *S*."
   ]
  },
  {
   "cell_type": "markdown",
   "metadata": {
    "run_control": {
     "marked": false
    }
   },
   "source": [
    "### Set Equality\n",
    "\n",
    "If *S* $\\subseteq$ *T* and *T* $\\subseteq$ *S*,the two sets are equal, and w\n",
    "e write *S* = *T*."
   ]
  },
  {
   "cell_type": "markdown",
   "metadata": {
    "run_control": {
     "marked": false
    }
   },
   "source": [
    "### Universal Set $\\Omega$\n",
    "\n",
    "It is also expedient to introduce a universal set, denoted by $\\Omega$, which contains all objects that could conceivably be of interest in a particular context. Having specified the context in terms of a universal set $\\Omega$, we only consider sets *S* that are subsets of $\\Omega$."
   ]
  },
  {
   "cell_type": "markdown",
   "metadata": {
    "run_control": {
     "marked": false
    }
   },
   "source": [
    "### Set Operations\n",
    "\n",
    "The **complement** of a set *S*, with respect to the universe $\\Omega$, is the set { *x* $\\in$ $\\Omega$ | *x* $\\notin$ *S*} of all elements of $\\Omega$ that do not belong to *S*, and is denoted by *S<sup>c</sup>*.\n",
    "\n",
    "\n",
    "The union of two sets *S* and *T* is the set of all elements that belong to *S* or *T* (or both), and is denoted by *S* $\\cup$ *T* . The intersection of two sets *S* and *T* is the set of all elements that belong to both *S* and *T*, and is denoted by *S* $\\cap$ *T*. \n",
    "\n",
    "Thus, *S* $\\cup$ *T* = { *x* | *x* $\\in$ *S* or *x* $\\in$ *T* }, *S* $\\cap$ *T* = { *x* | *x* $\\in$ *S* and *x* $\\in$ *T* }."
   ]
  },
  {
   "cell_type": "markdown",
   "metadata": {
    "run_control": {
     "marked": false
    }
   },
   "source": [
    "### Disjoint Sets and Partitions\n",
    "\n",
    "Two sets are said to be **disjoint** if their intersection is empty. More generally, several sets are said to be disjoint if no two of them have a common element.\n",
    "\n",
    "A collection of sets is said to be a **partition** of a set *S* if the sets in the collection are disjoint and their union is *S*."
   ]
  },
  {
   "cell_type": "markdown",
   "metadata": {},
   "source": [
    "### Algebra of Sets\n",
    "\n",
    "*S* $\\cup$ *T* = *T* $\\cup$ *S*\n",
    "\n",
    "*S* $\\cup$ ( *T* $\\cup$ *U* ) = ( *S* $\\cup$ *T* ) $\\cup$ *U*\n",
    "\n",
    "*S* $\\cap$ ( *T* $\\cup$ *U* ) = ( *S* $\\cap$ *T* ) $\\cup$ ( *S* $\\cap$ *U* )\n",
    "\n",
    "*S* $\\cup$ ( *T* $\\cap$ *U* ) = ( *S* $\\cup$ *T* ) $\\cap$ ( *S* $\\cup$ *U* )\n",
    "\n",
    "( *S* <sup>c</sup> ) <sup>c</sup> = *S* \n",
    "\n",
    "*S* $\\cap$ *S*<sup>c</sup> = $\\emptyset$ \n",
    "\n",
    "*S* $\\cup$ $\\Omega$ = $\\Omega$\n",
    "\n",
    "*S* $\\cap$ $\\Omega$ = *S*\n",
    "\n",
    "### de Morgan's Laws\n",
    "\n",
    "$\\bigg(\\bigcup_\\limits{n} S_n\\bigg)^c = \\bigcap_\\limits{n}S_n^c$  &nbsp;&nbsp;&nbsp;&nbsp;&nbsp;&nbsp;&nbsp;&nbsp;&nbsp;&nbsp; **OR** &nbsp;&nbsp;&nbsp;&nbsp;&nbsp;&nbsp;&nbsp;&nbsp;&nbsp;&nbsp;       $( A \\cup B )^c = A^c \\cap B^c$\n",
    "\n",
    "$\\bigg(\\bigcap_\\limits{n} S_n\\bigg)^c = \\bigcup_\\limits{n}S_n^c$  &nbsp;&nbsp;&nbsp;&nbsp;&nbsp;&nbsp;&nbsp;&nbsp;&nbsp;&nbsp; **OR** &nbsp;&nbsp;&nbsp;&nbsp;&nbsp;&nbsp;&nbsp;&nbsp;&nbsp;&nbsp;       $( A \\cap B )^c = A^c\\cup B^c$"
   ]
  },
  {
   "cell_type": "markdown",
   "metadata": {},
   "source": [
    "## Probabilistic Models\n",
    "\n",
    "A probabilistic model is a mathematical description of an uncertain situation."
   ]
  },
  {
   "cell_type": "markdown",
   "metadata": {},
   "source": [
    "\n",
    "### Elements of  a Probabilistic Model\n",
    "\n",
    "- The **sample space** $\\Omega$, which is the set of all possible outcomes of an experiment.\n",
    "- The **probability law**, which assigns to a set *A* of possible outcomes (also called an event) a non negative number __*P(A)*__ (called the probability of *A*) that encodes our knowledge or belief about the collective \"likelihood\" of the elements of *A*.\n",
    "\n",
    "![Ingredients of Probabilistic Model](files/img/ingredients_of_probabilisitc_model.png \"Ingredients of Probabilistic Model\")"
   ]
  },
  {
   "cell_type": "markdown",
   "metadata": {},
   "source": [
    "### Sample Spaces and Events\n",
    "\n",
    "Every probabilistic model involves an underlying process, called the **experiment**, that will produce exactly one out of several possible outcomes. \n",
    "\n",
    "The set of all possible outcomes is called the **sample space** of the experiment, and is denoted by $\\Omega$.\n",
    "\n",
    "A subset of the sample space, that is, a collection of possible outcomes, is called an **event**.\n",
    "\n",
    "There is no restriction on what constitutes an experiment. It is important to note that in our formulation of a probabilistic model, there is only one experiment.\n",
    "\n",
    "#### Criterion for a set to qualify as a Sample Space\n",
    "\n",
    "- **Mutually Exclusive :** Regardless of their number, different elements of the sample space should be distinct and mutually exclusive so that when the experiment is carried out, there is a unique outcome. \n",
    "- **Collectively Exhaustive :** No matter what happens in the experiment, we always obtain an outcome that has been included in the sample space. \n",
    "- In addition, the sample space should have enough detail to distinguish between all outcomes of interest to the modeler, while avoiding irrelevant details.\n"
   ]
  },
  {
   "cell_type": "markdown",
   "metadata": {},
   "source": [
    "## Probability Laws\n",
    "\n",
    "Experiment : Sample space $\\Omega$, to complete the probabilistic model, we must introduce a **probability law.** More precisely, the probability law assigns to every event *A*, a number **P**(A), called the probability of *A*, satisfying the following axioms.\n",
    "\n",
    "### Probability Axioms\n",
    "\n",
    "- ( Nonnegativity ) __P__(A) $\\geq$ 0, for every event *A*.\n",
    "- ( Additivity ) \n",
    "    * If *A* and *B* are two disjoint events, then the probability of their union satisfies **P**( A $\\cup$ B ) = **P**( A ) + **P**( B ).\n",
    "    * If the sample space has an infinite number of elements and A$_1$ , A$_2$ , . . . is a sequence of disjoint events, then the probability of their union satisfies **P**( $A_1 \\cup  A_2 \\cup . . .$ ) = **P**( A$_1$ ) + **P**( A$_2$ ) + . . .\n",
    "- (Normalization) The probability of the entire sample space $\\Omega$ is equal to 1, that is, **P**( $\\Omega$ ) = 1.\n",
    "\n",
    "As a consequence of the axioms, we can also arrive at the following results. \n",
    "\n",
    "- 1 = **P**( $\\Omega$ ) = **P**( $\\Omega \\cup \\emptyset $) = **P**( $\\Omega$ ) + **P**( $\\emptyset$ ) = 1 + **P**( $\\emptyset$ ) $\\implies$ **P**( $\\emptyset$ ) = 0\n",
    "\n",
    "### Discrete Models\n",
    "\n",
    "**Discrete Probability Law**\n",
    "\n",
    "If the sample space consists of a finite number of possible outcomes, then the probability law is specified by the probabilities of the events that consist of a single element. In particular, the probability of any event $\\{s_1 , s_2 , . . . , s_n \\}$ is the sum of the probabilities of its elements: $P\\{ s_1, s_2, \\cdot\\cdot\\cdot, s_n\\} = P\\{s_1\\} + P\\{s_2\\} + \\cdot\\cdot\\cdot +P\\{s_n\\}$\n",
    "\n",
    "**Discrete Uniform Probability Law**\n",
    "\n",
    "If the sample space consists of *n* possible outcomes which are equally likely (i.e., all single-element events have the same probability), then the probability of any event *A* is given by\n",
    "\n",
    "**P**( A ) = $\\dfrac{Number\\ of\\ elements\\ of\\ \\mathbf{A}}{n}$"
   ]
  },
  {
   "cell_type": "markdown",
   "metadata": {
    "collapsed": true
   },
   "source": [
    "### Continuous Models\n",
    "\n",
    "In Continuous Probabilistic Models, the sample space is continuous instead of discrete. For e.g: Hitting a specific are in a dart board upon a dart throw. "
   ]
  },
  {
   "cell_type": "markdown",
   "metadata": {},
   "source": [
    "### Properties of Probability Laws\n",
    "\n",
    "Consider a probability law, and let *A*, *B*, and *C* be events. \n",
    "\n",
    "- If *A* $\\subseteq$ *B*, then **P**(A) $\\leq$ **P**(B)\n",
    "- **P**( *A* $\\cup$ *B* ) = **P**(*A*) + **P**(*B*) − **P**( *A* $\\cap$ *B* )\n",
    "- **P**( *A* $\\cup$ *B* ) $\\leq$ **P**(*A*) + **P**(*B*)\n",
    "- **P**( *A* $\\cup$ *B* $\\cup$ *C* )= **P**(A) + **P**( *A*$^c$ $\\cap$ *B* )+**P**(*A*$^c$ $\\cap$ *B*$^c$ $\\cap$ *C* )"
   ]
  },
  {
   "cell_type": "markdown",
   "metadata": {},
   "source": [
    "## Conditional Probability\n",
    "\n",
    "Conditional probability provides us with a way to reason about the outcome of an experiment, based on **partial information**.\n",
    "\n",
    "In more precise terms, given an experiment, a corresponding sample space, and a probability law, suppose that we know that the outcome is within some given event *B*. We wish to quantify the likelihood that the outcome also belongs to some other given event *A*.\n",
    "\n",
    "We thus seek to construct a new probability law, which takes into account this knowledge and which, for any event *A*, gives us the conditional probability of *A* given *B*, denoted by **P**( *A* | *B* ).\n",
    "\n",
    "**P**( *A* | *B* ) = $\\dfrac{number\\ of\\ elements\\ of A \\cap B}{number\\ of\\ elements\\ of\\ B}$ = $\\dfrac{\\mathbf{P}(A\\ \\cap \\ B)}{\\mathbf{P}(B)}$\n",
    "\n",
    "where we assume that **P**(*B*) > 0; the conditional probability is undefined if the conditioning event has zero probability.\n",
    "\n",
    "Conditional probabilities can also be viewed as a probability law on a new universe *B*, because all of the conditional probability is concentrated on *B*."
   ]
  },
  {
   "cell_type": "markdown",
   "metadata": {},
   "source": [
    "### Using Conditional Probability for Modeling\n",
    "\n",
    "When constructing probabilistic models for experiments that have a sequential character, it is often natural and convenient to first specify conditional probabilities and then use them to determine unconditional probabilities. The rule **P**( *A* $\\cap$ *B* ) = **P**(*B*)$\\cdot$**P**( *A* | *B* ), which is a restatement of the definition of conditional probability, is often helpful in this process.\n",
    "\n",
    "### Multiplication Rule\n",
    "\n",
    "Assuming that all of the conditioning events have positive probability, we have\n",
    " \n",
    " **P**$\\bigg(\\bigcap_\\limits{i=1}^\\limits{n} A_i\\bigg)$ = **P**(*A$_1$*)**P**(*A$_2$*|*A$_1$*)**P**(*A$_3$*|*A$_1$* $\\cap$ *A$_1$*) $\\cdot$$\\cdot$$\\cdot$ **P**(*A$_n$* | $\\bigcap_\\limits{i=1}^\\limits{n-1}$ *A$_i$*)\n"
   ]
  },
  {
   "cell_type": "markdown",
   "metadata": {
    "collapsed": true
   },
   "source": [
    "## Applications of Conditional Probability\n",
    "\n",
    "### Total Probability Theorem \n",
    "\n",
    "Let A$_1$, . . . , A$_n$ be disjoint events that form a partition of the sample space (each possible outcome is included in one and only one of the events A$_1$, . . . , A$_n$) and assume that **P**(A$_i$) > 0, for all i = 1,...,n. Then, for any event B, we have\n",
    "\n",
    "**P**(B) = **P**(A$_1$ $\\cap$ B) + $\\cdot$$\\cdot$$\\cdot$ + **P**(A$_n$ $\\cap$ B) = **P**(A$_1$)**P**(B | A$_1$) + $\\cdot$$\\cdot$$\\cdot$ + **P**(A$_n$)**P**(B | A$_n$)\n",
    "\n",
    "### Bayes' Rule\n",
    "\n",
    "Let A$_1$, . . . , A$_n$ be disjoint events that form a partition of the sample space, and assume that **P**(A$_i$) > 0, for all *i*. Then, for any event B such that **P**(B) > 0, we have\n",
    "\n",
    "P(A$_i$ | B) = $\\dfrac{P(A_i)P(B | A_i)}{P(B)}$ = $\\dfrac{P(A_i)P(B | A_i)}{P(A_1)P(B | A_1) + \\cdot\\cdot\\cdot + P(A_n)P(B | A_n)}$\n",
    "\n",
    "Bayes' rule is often used for inference. There are a number of \"causes\" that may result in a certain \"effect\". We observe the effect, and we wish to infer the cause. The events A$_1$, . . . , A$_n$ are associated with the causes and the event B represents the effect. The probability **P**(B | A$_i$) that the effect will be observed when the cause A$_i$ is present amounts to a probabilistic model of the cause-effect relation. "
   ]
  }
 ],
 "metadata": {
  "kernelspec": {
   "display_name": "Python 3",
   "language": "python",
   "name": "python3"
  },
  "language_info": {
   "codemirror_mode": {
    "name": "ipython",
    "version": 3
   },
   "file_extension": ".py",
   "mimetype": "text/x-python",
   "name": "python",
   "nbconvert_exporter": "python",
   "pygments_lexer": "ipython3",
   "version": "3.6.1"
  },
  "latex_envs": {
   "LaTeX_envs_menu_present": true,
   "autocomplete": true,
   "bibliofile": "biblio.bib",
   "cite_by": "apalike",
   "current_citInitial": 1,
   "eqLabelWithNumbers": true,
   "eqNumInitial": 1,
   "hotkeys": {
    "equation": "Ctrl-E",
    "itemize": "Ctrl-I"
   },
   "labels_anchors": false,
   "latex_user_defs": false,
   "report_style_numbering": false,
   "user_envs_cfg": false
  },
  "toc": {
   "colors": {
    "hover_highlight": "#DAA520",
    "navigate_num": "#000000",
    "navigate_text": "#333333",
    "running_highlight": "#FF0000",
    "selected_highlight": "#FFD700",
    "sidebar_border": "#EEEEEE",
    "wrapper_background": "#FFFFFF"
   },
   "moveMenuLeft": true,
   "nav_menu": {
    "height": "261px",
    "width": "252px"
   },
   "navigate_menu": true,
   "number_sections": true,
   "sideBar": true,
   "threshold": 4,
   "toc_cell": false,
   "toc_section_display": "block",
   "toc_window_display": true,
   "widenNotebook": false
  },
  "varInspector": {
   "cols": {
    "lenName": 16,
    "lenType": 16,
    "lenVar": 40
   },
   "kernels_config": {
    "python": {
     "delete_cmd_postfix": "",
     "delete_cmd_prefix": "del ",
     "library": "var_list.py",
     "varRefreshCmd": "print(var_dic_list())"
    },
    "r": {
     "delete_cmd_postfix": ") ",
     "delete_cmd_prefix": "rm(",
     "library": "var_list.r",
     "varRefreshCmd": "cat(var_dic_list()) "
    }
   },
   "types_to_exclude": [
    "module",
    "function",
    "builtin_function_or_method",
    "instance",
    "_Feature"
   ],
   "window_display": false
  }
 },
 "nbformat": 4,
 "nbformat_minor": 2
}
