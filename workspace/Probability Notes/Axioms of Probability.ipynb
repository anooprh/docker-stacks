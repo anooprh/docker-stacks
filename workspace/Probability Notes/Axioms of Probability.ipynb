{
 "cells": [
  {
   "cell_type": "markdown",
   "metadata": {},
   "source": [
    "## Sample Space\n",
    "\n",
    "The set of all possible outcomes of an experiment is known as the _sample space_ of the experiment and is denoted by _**S**_."
   ]
  },
  {
   "cell_type": "markdown",
   "metadata": {},
   "source": [
    "## Event\n",
    "\n",
    "Any subset _**E**_ of the sample space _**S**_ is known as an _event_. In other words, an event is a set consisting of possible outcomes of an experiment."
   ]
  },
  {
   "cell_type": "markdown",
   "metadata": {},
   "source": [
    "### Operators on events\n",
    "\n",
    "_**Union of events**_ : For any two events _**E**_ and _**F**_ of a sample space _**S**_, we define the new event _**E ∪ F**_ to consist of all outcomes that are either in _**E**_ or in _**F**_ or in both _**E**_ and _**F**_. That is, the event _**E ∪ F**_ will occur if either _**E**_ or _**F**_ occurs.\n",
    "\n",
    "_**Intersection of events**_ : For any two events _**E**_ and _**F**_ of a sample space _**S**_, we define the new event _**E ∩ F**_ or (_**EF**_) to consist of all outcomes that are in both _**E**_ and _**F**_. That is, the event _**E ∩ F**_ will occur if both in _**E**_ and _**F**_."
   ]
  },
  {
   "cell_type": "code",
   "execution_count": null,
   "metadata": {
    "collapsed": true
   },
   "outputs": [],
   "source": []
  }
 ],
 "metadata": {
  "kernelspec": {
   "display_name": "Python 2",
   "language": "python",
   "name": "python2"
  },
  "language_info": {
   "codemirror_mode": {
    "name": "ipython",
    "version": 2
   },
   "file_extension": ".py",
   "mimetype": "text/x-python",
   "name": "python",
   "nbconvert_exporter": "python",
   "pygments_lexer": "ipython2",
   "version": "2.7.13"
  }
 },
 "nbformat": 4,
 "nbformat_minor": 2
}
